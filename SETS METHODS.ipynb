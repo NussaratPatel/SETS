{
 "cells": [
  {
   "cell_type": "markdown",
   "id": "f271aad2",
   "metadata": {},
   "source": [
    "## SET METHODS"
   ]
  },
  {
   "cell_type": "code",
   "execution_count": 3,
   "id": "8276b92b",
   "metadata": {},
   "outputs": [
    {
     "data": {
      "text/plain": [
       "{'Apple', 'Banana', 'Mango', 'Orange'}"
      ]
     },
     "execution_count": 3,
     "metadata": {},
     "output_type": "execute_result"
    }
   ],
   "source": [
    "#add()\n",
    "fruits = {'Apple','Orange','Mango'}\n",
    "fruits.add('Banana')\n",
    "fruits"
   ]
  },
  {
   "cell_type": "code",
   "execution_count": 4,
   "id": "acacf148",
   "metadata": {},
   "outputs": [
    {
     "data": {
      "text/plain": [
       "set()"
      ]
     },
     "execution_count": 4,
     "metadata": {},
     "output_type": "execute_result"
    }
   ],
   "source": [
    "#Clear\n",
    "colors={'Red','White','Blue'}\n",
    "colors.clear()\n",
    "colors"
   ]
  },
  {
   "cell_type": "code",
   "execution_count": 5,
   "id": "8b1ad87f",
   "metadata": {},
   "outputs": [
    {
     "data": {
      "text/plain": [
       "{'Apple', 'Banana', 'Mango', 'Orange'}"
      ]
     },
     "execution_count": 5,
     "metadata": {},
     "output_type": "execute_result"
    }
   ],
   "source": [
    "#Copy\n",
    "fruits1 = fruits.copy()\n",
    "fruits1"
   ]
  },
  {
   "cell_type": "code",
   "execution_count": 6,
   "id": "d32a9a5f",
   "metadata": {},
   "outputs": [
    {
     "data": {
      "text/plain": [
       "{'Banana', 'Mango', 'Orange'}"
      ]
     },
     "execution_count": 6,
     "metadata": {},
     "output_type": "execute_result"
    }
   ],
   "source": [
    "#Difference\n",
    "fruits2={'Cherry','Jamun','Apple'}\n",
    "F=fruits.difference(fruits2)\n",
    "F"
   ]
  },
  {
   "cell_type": "code",
   "execution_count": 7,
   "id": "90e95444",
   "metadata": {},
   "outputs": [
    {
     "data": {
      "text/plain": [
       "{'Banana', 'Mango', 'Orange'}"
      ]
     },
     "execution_count": 7,
     "metadata": {},
     "output_type": "execute_result"
    }
   ],
   "source": [
    "#difference_update\n",
    "#Remove the items that exist in both sets:\n",
    "fruits.difference_update(fruits2)\n",
    "fruits"
   ]
  },
  {
   "cell_type": "code",
   "execution_count": 9,
   "id": "449b8e89",
   "metadata": {},
   "outputs": [
    {
     "data": {
      "text/plain": [
       "{'Banana', 'Orange'}"
      ]
     },
     "execution_count": 9,
     "metadata": {},
     "output_type": "execute_result"
    }
   ],
   "source": [
    "#discard\n",
    "#removing particular item\n",
    "fruits.discard('Mango')\n",
    "fruits"
   ]
  },
  {
   "cell_type": "code",
   "execution_count": 12,
   "id": "acc801d0",
   "metadata": {},
   "outputs": [
    {
     "data": {
      "text/plain": [
       "{'Apple'}"
      ]
     },
     "execution_count": 12,
     "metadata": {},
     "output_type": "execute_result"
    }
   ],
   "source": [
    "#intersection()\n",
    "#Returns a set, that is the intersection of two or more sets\n",
    "fruits = {'Apple','Orange','Mango'}\n",
    "fruits2={'Cherry','Jamun','Apple'}\n",
    "Z=fruits.intersection(fruits2)\n",
    "Z"
   ]
  },
  {
   "cell_type": "code",
   "execution_count": 15,
   "id": "a6764356",
   "metadata": {},
   "outputs": [
    {
     "data": {
      "text/plain": [
       "{'Apple'}"
      ]
     },
     "execution_count": 15,
     "metadata": {},
     "output_type": "execute_result"
    }
   ],
   "source": [
    "#intersection_update()\n",
    "#Removes the items in this set that are not present in other, specified set(s)\n",
    "fruits = {'Apple','Orange','Mango'}\n",
    "fruits2={'Cherry','Jamun','Apple'}\n",
    "fruits.intersection_update(fruits2)\n",
    "fruits"
   ]
  },
  {
   "cell_type": "code",
   "execution_count": 18,
   "id": "d4975e0a",
   "metadata": {},
   "outputs": [
    {
     "data": {
      "text/plain": [
       "False"
      ]
     },
     "execution_count": 18,
     "metadata": {},
     "output_type": "execute_result"
    }
   ],
   "source": [
    "#isdisjoint()\n",
    "#Returns whether two sets have a intersection or not\n",
    "fruits = {'Apple','Orange','Mango'}\n",
    "fruits2={'Cherry','Jamun','Apple'}\n",
    "Z=fruits.isdisjoint(fruits2)\n",
    "Z"
   ]
  },
  {
   "cell_type": "code",
   "execution_count": 19,
   "id": "aec7257a",
   "metadata": {},
   "outputs": [
    {
     "data": {
      "text/plain": [
       "True"
      ]
     },
     "execution_count": 19,
     "metadata": {},
     "output_type": "execute_result"
    }
   ],
   "source": [
    "#issubset()\n",
    "#Returns whether another set contains this set or not\n",
    "Z={\"a\",\"r\",\"m\",\"b\"}\n",
    "Y={\"f\",\"a\",\"m\",\"l\",\"n\",\"r\",\"b\"}\n",
    "Q=Z.issubset(Y)\n",
    "Q"
   ]
  },
  {
   "cell_type": "code",
   "execution_count": 20,
   "id": "b7d635b1",
   "metadata": {},
   "outputs": [
    {
     "data": {
      "text/plain": [
       "True"
      ]
     },
     "execution_count": 20,
     "metadata": {},
     "output_type": "execute_result"
    }
   ],
   "source": [
    "#issuperset()\n",
    "#Returns whether this set contains another set or not\n",
    "Z={\"a\",\"r\",\"m\",\"b\"}\n",
    "Y={\"f\",\"a\",\"m\",\"l\",\"n\",\"r\",\"b\"}\n",
    "Q=Y.issuperset(Z)\n",
    "Q"
   ]
  },
  {
   "cell_type": "code",
   "execution_count": 22,
   "id": "6d546a67",
   "metadata": {},
   "outputs": [
    {
     "data": {
      "text/plain": [
       "{'Apple', 'Mango'}"
      ]
     },
     "execution_count": 22,
     "metadata": {},
     "output_type": "execute_result"
    }
   ],
   "source": [
    "#pop()\n",
    "#Removes an element from the set\n",
    "fruits = {'Apple','Orange','Mango'}\n",
    "fruits.pop()\n",
    "fruits"
   ]
  },
  {
   "cell_type": "code",
   "execution_count": 23,
   "id": "ec6a3770",
   "metadata": {},
   "outputs": [
    {
     "data": {
      "text/plain": [
       "{'Apple', 'Orange'}"
      ]
     },
     "execution_count": 23,
     "metadata": {},
     "output_type": "execute_result"
    }
   ],
   "source": [
    "#remove()\n",
    "#Removes the specified element\n",
    "fruits = {'Apple','Orange','Mango'}\n",
    "fruits.remove('Mango')\n",
    "fruits"
   ]
  },
  {
   "cell_type": "code",
   "execution_count": 24,
   "id": "92d20471",
   "metadata": {},
   "outputs": [
    {
     "data": {
      "text/plain": [
       "{'Cherry', 'Jamun', 'Mango', 'Orange'}"
      ]
     },
     "execution_count": 24,
     "metadata": {},
     "output_type": "execute_result"
    }
   ],
   "source": [
    "#symmetric_difference()\n",
    "#Returns a set with the symmetric differences of two sets\n",
    "fruits = {'Apple','Orange','Mango'}\n",
    "fruits2={'Cherry','Jamun','Apple'}\n",
    "Z=fruits.symmetric_difference(fruits2)\n",
    "Z"
   ]
  },
  {
   "cell_type": "code",
   "execution_count": 26,
   "id": "39a65fda",
   "metadata": {},
   "outputs": [
    {
     "data": {
      "text/plain": [
       "{'Cherry', 'Jamun', 'Mango', 'Orange'}"
      ]
     },
     "execution_count": 26,
     "metadata": {},
     "output_type": "execute_result"
    }
   ],
   "source": [
    "#symmetric_difference_update()\n",
    "#inserts the symmetric differences from this set and another\n",
    "fruits = {'Apple','Orange','Mango'}\n",
    "fruits2={'Cherry','Jamun','Apple'}\n",
    "fruits.symmetric_difference_update(fruits2)\n",
    "fruits"
   ]
  },
  {
   "cell_type": "code",
   "execution_count": 29,
   "id": "dffaa2a5",
   "metadata": {},
   "outputs": [
    {
     "data": {
      "text/plain": [
       "{'Apple', 'Cherry', 'Jamun', 'Mango', 'Orange'}"
      ]
     },
     "execution_count": 29,
     "metadata": {},
     "output_type": "execute_result"
    }
   ],
   "source": [
    "#union()\n",
    "#Return a set containing the union of sets\n",
    "fruits = {'Apple','Orange','Mango'}\n",
    "fruits2={'Cherry','Jamun','Apple'}\n",
    "Z=fruits.union(fruits2)\n",
    "Z"
   ]
  },
  {
   "cell_type": "code",
   "execution_count": 30,
   "id": "dc85cc8a",
   "metadata": {},
   "outputs": [
    {
     "data": {
      "text/plain": [
       "{'Apple', 'Chiku', 'Grapes', 'Mango', 'Orange'}"
      ]
     },
     "execution_count": 30,
     "metadata": {},
     "output_type": "execute_result"
    }
   ],
   "source": [
    "#update()\n",
    "#Update the set with another set, or any other iterable\n",
    "fruits = {'Apple','Orange','Mango'}\n",
    "fruits3={'Grapes','Chiku'}\n",
    "fruits.update(fruits3)\n",
    "fruits"
   ]
  },
  {
   "cell_type": "code",
   "execution_count": null,
   "id": "6ba60b70",
   "metadata": {},
   "outputs": [],
   "source": []
  }
 ],
 "metadata": {
  "kernelspec": {
   "display_name": "Python 3 (ipykernel)",
   "language": "python",
   "name": "python3"
  },
  "language_info": {
   "codemirror_mode": {
    "name": "ipython",
    "version": 3
   },
   "file_extension": ".py",
   "mimetype": "text/x-python",
   "name": "python",
   "nbconvert_exporter": "python",
   "pygments_lexer": "ipython3",
   "version": "3.11.5"
  }
 },
 "nbformat": 4,
 "nbformat_minor": 5
}
